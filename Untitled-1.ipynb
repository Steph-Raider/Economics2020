{
 "cells": [
  {
   "cell_type": "code",
   "execution_count": 2,
   "metadata": {},
   "outputs": [
    {
     "name": "stdout",
     "output_type": "stream",
     "text": [
      "1234 * 2341234 - 23452.0 =  2889059304.0\n",
      "1234/2341234 - 23452.0 =  -23451.999472927524\n",
      "23452.0*2 =  28939768\n",
      "75 * 6 =  450\n",
      "61*73 =  4453\n"
     ]
    }
   ],
   "source": [
    "import random\n",
    "import turtle\n",
    "\n",
    "a = int(input(\"inter a integer number: \"))\n",
    "\n",
    "b = int(input(\"inter a integer number: \"))\n",
    "\n",
    "c = float(input(\"inter a float number: \"))\n",
    "\n",
    "print(f\"{a} * {b} - {c} = \", a * b - c ) \n",
    "\n",
    "print(f\"{a}/{b} - {c} = \", a/b - c)\n",
    "\n",
    "print (f\"{c}*2 = \", int(c*a))\n",
    "\n",
    "\n",
    "d = random.randint(0,10)\n",
    "e =  random.randint(0,100)\n",
    "f =  random.randint(0,100)\n",
    "h =  random.randint(0,100)\n",
    "i =  random.randint(0,100)\n",
    "j =  random.randint(0,360)\n",
    "\n",
    "print(f\"75 * {d} = \", 75 * d )\n",
    "print(f\"{f}*{e} = \", f*e )\n",
    "\n",
    "\n",
    "\n",
    "turtle.shape(\"turtle\")\n",
    "\n",
    "for i in range(0,d):\n",
    "    turtle.forward(f)\n",
    "    turtle.right(e)\n",
    "    for i in range(0,h):\n",
    "        turtle.forward(i)\n",
    "        turtle.right(j)\n",
    "\n",
    "turtle.exitonclick()"
   ]
  },
  {
   "cell_type": "code",
   "execution_count": null,
   "metadata": {},
   "outputs": [],
   "source": []
  }
 ],
 "metadata": {
  "interpreter": {
   "hash": "2b4ef74fc53b2dfeb6b43f836d6d69ce0aa0230201ad1a76775c515a02a9f576"
  },
  "kernelspec": {
   "display_name": "Python 3.9.10 64-bit (windows store)",
   "language": "python",
   "name": "python3"
  },
  "language_info": {
   "codemirror_mode": {
    "name": "ipython",
    "version": 3
   },
   "file_extension": ".py",
   "mimetype": "text/x-python",
   "name": "python",
   "nbconvert_exporter": "python",
   "pygments_lexer": "ipython3",
   "version": "3.9.10"
  },
  "orig_nbformat": 4
 },
 "nbformat": 4,
 "nbformat_minor": 2
}
