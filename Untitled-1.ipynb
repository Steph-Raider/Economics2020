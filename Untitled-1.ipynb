{
 "cells": [
  {
   "cell_type": "code",
<<<<<<< HEAD
   "execution_count": 1,
=======
   "execution_count": 2,
>>>>>>> 259c6ae1fb6eacca00f107e50b7f06a05d21591c
   "metadata": {},
   "outputs": [
    {
     "name": "stdout",
     "output_type": "stream",
     "text": [
<<<<<<< HEAD
      "12 * 32 - 123.0 =  261.0\n",
      "12/32 - 123.0 =  -122.625\n",
      "123.0*2 =  1476\n",
      "75 * 9 =  675\n",
      "0*74 =  0\n"
=======
      "1234 * 2341234 - 23452.0 =  2889059304.0\n",
      "1234/2341234 - 23452.0 =  -23451.999472927524\n",
      "23452.0*2 =  28939768\n",
      "75 * 6 =  450\n",
      "61*73 =  4453\n"
>>>>>>> 259c6ae1fb6eacca00f107e50b7f06a05d21591c
     ]
    }
   ],
   "source": [
    "import random\n",
    "import turtle\n",
    "\n",
    "a = int(input(\"inter a integer number: \"))\n",
<<<<<<< HEAD
    "b = int(input(\"inter a integer number: \"))\n",
    "c = float(input(\"inter a float number: \"))\n",
    "\n",
    "print(f\"{a} * {b} - {c} = \", a * b - c ) \n",
    "print(f\"{a}/{b} - {c} = \", a/b - c)\n",
=======
    "\n",
    "b = int(input(\"inter a integer number: \"))\n",
    "\n",
    "c = float(input(\"inter a float number: \"))\n",
    "\n",
    "print(f\"{a} * {b} - {c} = \", a * b - c ) \n",
    "\n",
    "print(f\"{a}/{b} - {c} = \", a/b - c)\n",
    "\n",
>>>>>>> 259c6ae1fb6eacca00f107e50b7f06a05d21591c
    "print (f\"{c}*2 = \", int(c*a))\n",
    "\n",
    "\n",
    "d = random.randint(0,10)\n",
    "e =  random.randint(0,100)\n",
    "f =  random.randint(0,100)\n",
    "h =  random.randint(0,100)\n",
    "i =  random.randint(0,100)\n",
    "j =  random.randint(0,360)\n",
    "\n",
    "print(f\"75 * {d} = \", 75 * d )\n",
    "print(f\"{f}*{e} = \", f*e )\n",
    "\n",
    "\n",
    "\n",
    "turtle.shape(\"turtle\")\n",
    "\n",
    "for i in range(0,d):\n",
    "    turtle.forward(f)\n",
    "    turtle.right(e)\n",
    "    for i in range(0,h):\n",
    "        turtle.forward(i)\n",
    "        turtle.right(j)\n",
    "\n",
    "turtle.exitonclick()"
   ]
  },
  {
   "cell_type": "code",
   "execution_count": null,
   "metadata": {},
   "outputs": [],
<<<<<<< HEAD
   "source": [
    "poem = \"\"\"\n",
    "There are two things you are better off not watching in the making:\n",
    "sausages and econometric estimates.\n",
    "\"\"\"\n",
    "\n",
    "print(poem)\n",
    "print(len(poem))\n",
    "point1 = int(input(\"inter the first point: \"))\n",
    "point2 = int(input(\"input the end point: \"))\n",
    "\n",
    "print(poem[point1:point2])"
   ]
  },
  {
   "cell_type": "code",
   "execution_count": null,
   "metadata": {},
   "outputs": [],
   "source": [
    "poscode = input(\"inter a postcode: \")\n",
    "poscode1 = poscode[0:2]\n",
    "print(poscode1.upper())"
   ]
  },
  {
   "cell_type": "code",
   "execution_count": null,
   "metadata": {},
   "outputs": [],
   "source": [
    "sub1 = input(\"what is you favorite subject: \")\n",
    "\n",
    "for letter in sub1:\n",
    "    print(letter, end = \"---\")"
   ]
  },
  {
   "cell_type": "code",
   "execution_count": null,
   "metadata": {},
   "outputs": [],
   "source": [
    "pswd = input(\"inter your password: \")\n",
    "\n",
    "pswdr = input(\"repeat your password: \")\n",
    "\n",
    "varification = False\n",
    "\n",
    "while varification == False: \n",
    "    if pswd == pswdr:\n",
    "        print(\"Thank you\")\n",
    "        varification = True\n",
    "    elif pswd.capitalize() == pswdr or pswdr.capitalize() == pswd:\n",
    "        print(\"They must be all in the same case\")\n",
    "        pswd = input(\"inter your password: \")\n",
    "\n",
    "        pswdr = input(\"repeat your password: \")\n",
    "    else:\n",
    "        print(\"Incorrect!\")\n",
    "        pswd = input(\"inter your password: \")\n",
    "\n",
    "        pswdr = input(\"repeat your password: \")"
   ]
  },
  {
   "cell_type": "code",
   "execution_count": null,
   "metadata": {},
   "outputs": [],
   "source": [
    "word1 = input(\"Type in a word: \")\n",
    "\n",
    "wordlen1 = len(word1) + 1\n",
    "wordlen = len(word1)\n",
    "latter = len(word1) + 1\n",
    "endletter = -1\n",
    "loops = 0\n",
    "\n",
    "while loops != wordlen1:\n",
    "    letters = word1[wordlen:latter]\n",
    "    print(letters)\n",
    "    loops = loops + 1 \n",
    "    wordlen = wordlen - 1\n",
    "    latter = latter - 1 \n"
   ]
=======
   "source": []
>>>>>>> 259c6ae1fb6eacca00f107e50b7f06a05d21591c
  }
 ],
 "metadata": {
  "interpreter": {
   "hash": "2b4ef74fc53b2dfeb6b43f836d6d69ce0aa0230201ad1a76775c515a02a9f576"
  },
  "kernelspec": {
   "display_name": "Python 3.9.10 64-bit (windows store)",
   "language": "python",
   "name": "python3"
  },
  "language_info": {
   "codemirror_mode": {
    "name": "ipython",
    "version": 3
   },
   "file_extension": ".py",
   "mimetype": "text/x-python",
   "name": "python",
   "nbconvert_exporter": "python",
   "pygments_lexer": "ipython3",
   "version": "3.9.10"
  },
  "orig_nbformat": 4
 },
 "nbformat": 4,
 "nbformat_minor": 2
}
