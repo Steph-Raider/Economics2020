{
 "cells": [
  {
   "cell_type": "code",
   "execution_count": 39,
   "metadata": {},
   "outputs": [
    {
     "name": "stdout",
     "output_type": "stream",
     "text": [
      "Econometrics\n",
      "Applied_Econometrics\n",
      "if the implementation is easy to explain, it may be a good idea \n",
      " 63\n",
      "if the implementation is easy to explain, it may be a good idea\n",
      "115.6\n",
      "100.0\n"
     ]
    },
    {
     "data": {
      "text/plain": [
       "[10, 11, 12, 13, 14, 15, 16, 17, 18, 19]"
      ]
     },
     "execution_count": 39,
     "metadata": {},
     "output_type": "execute_result"
    }
   ],
   "source": [
    "dict = {\n",
    "    \"word\":\"Econometrics\",\n",
    "    \"sentence\":\"if the implementation is easy to explain, it may be a good idea\",\n",
    "    \"big_list\":[\"python\",3,\"anaconda\",3.6,\"jupyter\",10,\"lessons\",\"many\",99],\n",
    "    \"empty_list\":[]\n",
    "}\n",
    "\n",
    "word1 = dict[\"word\"]\n",
    "print(word1)\n",
    "\n",
    "if word1.isupper():\n",
    "    print(\"the word is in Uppercase!\")\n",
    "else:\n",
    "    word1.upper()\n",
    "\n",
    "word2 = \"Applied_\"\n",
    "\n",
    "word12 = word2 + word1\n",
    "print(word12)\n",
    "\n",
    "print(dict[\"sentence\"],\"\\n\", len(dict[\"sentence\"]))\n",
    "var1 = dict[\"sentence\"]\n",
    "\n",
    "print(dict[\"sentence\"])\n",
    "sentence = dict[\"sentence\"]\n",
    "\n",
    "big_list = dict[\"big_list\"]\n",
    "\n",
    "for word in big_list:\n",
    "    if word is str:\n",
    "        print(word)\n",
    "    \n",
    "big_list\n",
    "\n",
    "var2 = big_list[1] + big_list[3] + big_list[5] + big_list[8] \n",
    "\n",
    "print(var2)\n",
    "\n",
    "big_list.append(-15.6)\n",
    "\n",
    "var3 = big_list[1] + big_list[3] + big_list[5] + big_list[8] + big_list[9]\n",
    "\n",
    "print(var3)\n",
    "\n",
    "big_list[7] = \"Ron\"\n",
    "\n",
    "emlist = dict[\"empty_list\"]\n",
    "\n",
    "for x in range(10,20):\n",
    "    emlist.append(x)\n",
    "\n",
    "emlist\n",
    "\n",
    "\n"
   ]
  }
 ],
 "metadata": {
  "interpreter": {
   "hash": "76a5f2c74ad51a0d59bd594e90f26ea2002d9260c54daf039e73ac0a19bd370c"
  },
  "kernelspec": {
   "display_name": "Python 3.9.7 ('base')",
   "language": "python",
   "name": "python3"
  },
  "language_info": {
   "codemirror_mode": {
    "name": "ipython",
    "version": 3
   },
   "file_extension": ".py",
   "mimetype": "text/x-python",
   "name": "python",
   "nbconvert_exporter": "python",
   "pygments_lexer": "ipython3",
   "version": "3.9.7"
  },
  "orig_nbformat": 4
 },
 "nbformat": 4,
 "nbformat_minor": 2
}
