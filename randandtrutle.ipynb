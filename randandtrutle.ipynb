{
 "cells": [
  {
   "cell_type": "code",
   "execution_count": 6,
   "metadata": {},
   "outputs": [
    {
     "name": "stdout",
     "output_type": "stream",
     "text": [
      "123 * 3 - 12.3 =  356.7\n",
      "123/3 - 12.3 =  28.7\n",
      "123^(2) =  121\n",
      "75 * 8 =  600\n",
      "194 * 4 =  776\n"
     ]
    }
   ],
   "source": [
    "import random\n",
    "import turtle\n",
    "\n",
    "a = int(input(\"enter a integer number: \"))\n",
    "b = int(input(\"enter a integer number: \"))\n",
    "c = float(input(\"enter a float number: \"))\n",
    "\n",
    "print(f\"{a} * {b} - {c} = \", a*b-c )\n",
    "print(f\"{a}/{b} - {c} = \", a/b - c )\n",
    "print(f\"{a}^(2) = \", int(a^(2)))\n",
    "\n",
    "d = random.randint(0,10)\n",
    "e = random.randint(0,360)\n",
    "f = random.randint(0,360)\n",
    "h = random.randint(0,360)\n",
    "i = random.randint(0,360)\n",
    "\n",
    "print(f\"75 * {d} = \", 75*d)\n",
    "print(f\"{f} * {e} = \", f*e)\n",
    "\n",
    "turtle.shape(\"turtle\")\n",
    "\n",
    "for i in range(0,d):\n",
    "    turtle.forward(e)\n",
    "    turtle.right(f)\n",
    "    for i in range(0,d):\n",
    "        turtle.forward(h)\n",
    "        turtle.right(i)\n",
    "\n",
    "turtle.exitonclick()"
   ]
  }
 ],
 "metadata": {
  "interpreter": {
   "hash": "69eb92836b941e979072a76c7fcfffe5419cca933cedd02cfafbdfca1a93358c"
  },
  "kernelspec": {
   "display_name": "Python 3.9.10 64-bit",
   "language": "python",
   "name": "python3"
  },
  "language_info": {
   "codemirror_mode": {
    "name": "ipython",
    "version": 3
   },
   "file_extension": ".py",
   "mimetype": "text/x-python",
   "name": "python",
   "nbconvert_exporter": "python",
   "pygments_lexer": "ipython3",
   "version": "3.9.10"
  },
  "orig_nbformat": 4
 },
 "nbformat": 4,
 "nbformat_minor": 2
}
