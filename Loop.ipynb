{
 "cells": [
  {
   "cell_type": "code",
   "execution_count": 4,
   "metadata": {},
   "outputs": [
    {
     "name": "stdout",
     "output_type": "stream",
     "text": [
      "[1, 2, 3, 4, 5, 6, 32, 6]\n",
      "5 is in the list\n",
      "good that is my beloved number!\n"
     ]
    }
   ],
   "source": [
    "import random\n",
    "rand1 = random.randint(0,100)\n",
    "rand2 = random.randint(0,100)\n",
    "\n",
    "list1 = [1,2,3,4,5,6, rand1, rand2]\n",
    "\n",
    "print(list1)\n",
    "\n",
    "ch = int(input(\"select any of it: \"))\n",
    "\n",
    "if ch in list1:\n",
    "    print(f\"{ch} is in the list\")\n",
    "else:\n",
    "    print(\"sorry not in the list!\")\n",
    "    ch = int(input(\"select any of it: \"))\n",
    "\n",
    "if ch == 5:\n",
    "    print(\"good that is my beloved number!\")\n",
    "elif ch < 5:\n",
    "    print(\"sorry less then 5... I hate you!\")\n",
    "else:\n",
    "    print(\"stupid!\")\n",
    "\n"
   ]
  },
  {
   "cell_type": "code",
   "execution_count": 6,
   "metadata": {},
   "outputs": [
    {
     "name": "stdout",
     "output_type": "stream",
     "text": [
      "Thank you!\n",
      "1\n",
      "2\n",
      "3\n"
     ]
    }
   ],
   "source": [
    "pswd = input(\"enter your password: \")\n",
    "pswd1 = input(\"enter it again: \")\n",
    "\n",
    "done = False\n",
    "\n",
    "while done == False:\n",
    "    if pswd == pswd1:\n",
    "        print(\"Thank you!\")\n",
    "        for x in pswd:\n",
    "            print(x)\n",
    "            done = True\n",
    "    elif pswd.capitalize() == pswd1 or pswd1.capitalize() == pswd: \n",
    "        print(\"they should be in the same case\")\n",
    "        pswd = input(\"enter your password: \")\n",
    "        pswd1 = input(\"enter it again: \")\n",
    "    else:\n",
    "        print(\"incorrect!\")\n",
    "        pswd = input(\"enter your password: \")\n",
    "        pswd1 = input(\"enter it again: \")\n",
    "\n"
   ]
  },
  {
   "cell_type": "code",
   "execution_count": 14,
   "metadata": {},
   "outputs": [
    {
     "name": "stdout",
     "output_type": "stream",
     "text": [
      "Lex\n",
      "Ren\n",
      "War\n",
      "Rex\n",
      "Lex\n",
      "Ren\n",
      "War\n",
      "Rex\n",
      "Rena\n",
      "For\n"
     ]
    }
   ],
   "source": [
    "names = []\n",
    "\n",
    "entername = 0\n",
    "while entername <= 3:\n",
    "    name1 = input(\"enter a name: \")\n",
    "    names.append(name1)\n",
    "    entername = entername + 1 \n",
    "\n",
    "for x in names:\n",
    "    print(x)\n",
    "\n",
    "ask = input(\"do you wnat to add more? yes/no: \")\n",
    "\n",
    "while ask == \"yes\":\n",
    "    name1 = input(\"enter a name: \")\n",
    "    names.append(name1)\n",
    "    ask = input(\"do you wnat to add more? yes/no: \")\n",
    "\n",
    "for x in names:\n",
    "    print(x)\n"
   ]
  },
  {
   "cell_type": "code",
   "execution_count": 16,
   "metadata": {},
   "outputs": [
    {
     "data": {
      "text/plain": [
       "[2, 3, 0, 1, 6, 7, 4, 5, 10, 11, 8, 9, 14, 15, 12]"
      ]
     },
     "execution_count": 16,
     "metadata": {},
     "output_type": "execute_result"
    }
   ],
   "source": [
    "ls_range = [i^2 for i in range (15)]\n",
    "ls_range "
   ]
  },
  {
   "cell_type": "code",
   "execution_count": 1,
   "metadata": {},
   "outputs": [],
   "source": [
    "import turtle\n",
    "import random\n",
    "\n",
    "turtle.shape(\"turtle\")\n",
    "x = random.randint(0,10)\n",
    "c = random.randint(0,360)\n",
    "v = random.randint(0,100)\n",
    "b = random.randint(0,360)\n",
    "n = random.randint(0,100)\n",
    "\n",
    "\n",
    "for i in range(0,x):\n",
    "    turtle.forward(v)\n",
    "    turtle.right(c)\n",
    "    for i in range(0,c):\n",
    "        turtle.forward(c)\n",
    "        turtle.right(b)\n",
    "\n",
    "turtle.exitonclick()"
   ]
  },
  {
   "cell_type": "code",
   "execution_count": 18,
   "metadata": {},
   "outputs": [
    {
     "name": "stdout",
     "output_type": "stream",
     "text": [
      "[0, 5, 10, 15, 20]\n",
      "0\n",
      "5\n",
      "10\n",
      "15\n",
      "20\n"
     ]
    }
   ],
   "source": [
    "for i in range(0,5):\n",
    "    list = [i*5 for i in range(0,5)]\n",
    "\n",
    "print(list)\n",
    "\n",
    "for x in list: \n",
    "    print(x)"
   ]
  },
  {
   "cell_type": "code",
   "execution_count": 21,
   "metadata": {},
   "outputs": [
    {
     "name": "stdout",
     "output_type": "stream",
     "text": [
      "[0, 1, 2, 3, 4, 5, 6, 7, 8, 9, 10]\n",
      "[]\n"
     ]
    }
   ],
   "source": [
    "list = [0,1,2,3,4,5,6,7,8,9,10]\n",
    "\n",
    "print(list) \n",
    "remove = 0\n",
    "while remove < 11:\n",
    "    list.remove(remove)\n",
    "    remove = remove + 1\n",
    "\n",
    "print(list)"
   ]
  }
 ],
 "metadata": {
  "interpreter": {
   "hash": "76a5f2c74ad51a0d59bd594e90f26ea2002d9260c54daf039e73ac0a19bd370c"
  },
  "kernelspec": {
   "display_name": "Python 3.9.7 ('base')",
   "language": "python",
   "name": "python3"
  },
  "language_info": {
   "codemirror_mode": {
    "name": "ipython",
    "version": 3
   },
   "file_extension": ".py",
   "mimetype": "text/x-python",
   "name": "python",
   "nbconvert_exporter": "python",
   "pygments_lexer": "ipython3",
   "version": "3.9.7"
  },
  "orig_nbformat": 4
 },
 "nbformat": 4,
 "nbformat_minor": 2
}
