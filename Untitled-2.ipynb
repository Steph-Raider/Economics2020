{
 "cells": [
  {
   "cell_type": "code",
   "execution_count": null,
   "metadata": {},
   "outputs": [],
   "source": [
    "upper1 = input(\"please inter a word in upper case: \")\n",
    "\n",
    "tiral = 1\n",
    "\n",
    "while tiral > 0: \n",
    "    if upper1.isupper():\n",
    "            tiral = tiral*0\n",
    "            print(upper1)\n",
    "    else:\n",
    "        upper1 = input(\"please inter a word in upper case: \")"
   ]
  }
 ],
 "metadata": {
  "language_info": {
   "name": "python"
  },
  "orig_nbformat": 4
 },
 "nbformat": 4,
 "nbformat_minor": 2
}
