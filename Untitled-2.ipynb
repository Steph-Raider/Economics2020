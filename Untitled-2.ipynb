{
 "cells": [
  {
   "cell_type": "code",
   "execution_count": null,
   "metadata": {},
   "outputs": [],
   "source": [
    "upper1 = input(\"please enter a word in upper case: \")\n",
    "\n",
    "trial = 1\n",
    "\n",
    "while trial > 0: \n",
    "    if upper1.isupper():\n",
    "            trial = trial*0\n",
    "            print(upper1)\n",
    "    else:\n",
    "        upper1 = input(\"please enter a word in upper case: \")"
   ]
  }
 ],
 "metadata": {
  "language_info": {
   "name": "python"
  },
  "orig_nbformat": 4
 },
 "nbformat": 4,
 "nbformat_minor": 2
}
