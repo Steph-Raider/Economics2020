{
 "cells": [
  {
   "cell_type": "code",
   "execution_count": null,
   "metadata": {},
   "outputs": [],
   "source": [
    "pswd = input(\"inter your password: \")\n",
    "\n",
    "pswdr = input(\"repeat your password: \")\n",
    "\n",
    "varification = False\n",
    "\n",
    "while varification == False: \n",
    "    if pswd == pswdr:\n",
    "        print(\"Thank you\")\n",
    "        varification = True\n",
    "    elif pswd.capitalize() == pswdr or pswdr.capitalize() == pswd:\n",
    "        print(\"They must be all in the same case\")\n",
    "        pswd = input(\"inter your password: \")\n",
    "\n",
    "        pswdr = input(\"repeat your password: \")\n",
    "    else:\n",
    "        print(\"Incorrect!\")\n",
    "        pswd = input(\"inter your password: \")\n",
    "\n",
    "        pswdr = input(\"repeat your password: \")"
   ]
  },
  {
   "cell_type": "code",
   "execution_count": null,
   "metadata": {},
   "outputs": [],
   "source": [
    "poscode = input(\"inter a postcode: \")\n",
    "poscode1 = poscode[0:2]\n",
    "print(poscode1.upper())"
   ]
  },
  {
   "cell_type": "code",
   "execution_count": null,
   "metadata": {},
   "outputs": [],
   "source": [
    "poem = \"\"\"\n",
    "There are two things you are better off not watching in the making:\n",
    "sausages and econometric estimates.\n",
    "\"\"\"\n",
    "\n",
    "print(poem)\n",
    "print(len(poem))\n",
    "point1 = int(input(\"inter the first point: \"))\n",
    "point2 = int(input(\"input the end point: \"))\n",
    "\n",
    "print(poem[point1:point2])"
   ]
  }
 ],
 "metadata": {
  "interpreter": {
   "hash": "69eb92836b941e979072a76c7fcfffe5419cca933cedd02cfafbdfca1a93358c"
  },
  "kernelspec": {
   "display_name": "Python 3.9.10 64-bit",
   "language": "python",
   "name": "python3"
  },
  "language_info": {
   "name": "python",
   "version": "3.9.10"
  },
  "orig_nbformat": 4
 },
 "nbformat": 4,
 "nbformat_minor": 2
}
